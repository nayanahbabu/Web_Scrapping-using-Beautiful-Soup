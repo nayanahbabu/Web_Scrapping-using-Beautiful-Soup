{
 "cells": [
  {
   "cell_type": "code",
   "execution_count": 3,
   "id": "d241a667",
   "metadata": {},
   "outputs": [
    {
     "name": "stdout",
     "output_type": "stream",
     "text": [
      "['Name', 'Industry', 'Sector', 'Headquarters', 'Founded', 'Notes']\n",
      "['Al Jazeera Media Network', 'Consumer services', 'Broadcasting & entertainment', 'Doha', '1996', 'Multimedia corporation']\n",
      "['Barwa Group', 'Financials', 'Real estate holding & development', 'Doha', '2005', 'Development']\n",
      "['BSI-Steel Building System Integration W.L.L', 'Basic materials', 'Iron & steel', 'Doha', '2006', 'Steel company']\n",
      "['GSSG Holding', 'Conglomerates', '-', 'Doha', '1994', 'Engineering, aviation, education, automotive company']\n",
      "['Gulf Drilling International', 'Oil & gas', 'Exploration & production', 'Doha', '2004', 'Part of QatarEnergy']\n",
      "['Gulf Helicopters', 'Consumer services', 'Airlines', 'Doha', '1970', 'Charter helicopters']\n",
      "['Hamad Medical Corporation', 'Health care', 'Health care providers', 'Doha[5]', '1979', 'State-owned healthcare provider']\n",
      "['International Bank of Qatar (IBQ)', 'Financials', 'Banks', 'Doha', '1956', 'Private bank']\n",
      "['Kahramaa', 'Utilities', 'Conventional electricity', 'Doha', '2000', 'State-owned electrical and water company']\n",
      "['Nakilat', 'Industrials', 'Marine transportation', 'Doha', '2004', 'State-owned gas shipping company']\n",
      "['Nehmeh', 'Industrials', 'Diversified industrials', 'Doha', '1955', 'Multidisciplinary company']\n",
      "['Ooredoo', 'Telecommunications', 'Fixed line telecommunications', 'Doha', '1987', 'State-owned telecommunications provider']\n",
      "['Oryx GTL', 'Oil & gas', 'Exploration & production', 'Ras Laffan Industrial City', '2003', 'Gas to liquids company']\n",
      "['Qatar Airways', 'Consumer services', 'Airlines', 'Doha', '1993', 'State-owned airline']\n",
      "['Qatar Amiri Flight', 'Consumer services', 'Airlines', 'Doha', '1977', 'State-owned VIP airline']\n",
      "['Qatar Development Bank', 'Financials', 'Banks', 'Doha', '1997', 'State-owned development bank']\n",
      "['Qatar Exchange', 'Financials', 'Investment services', 'Doha', '1995', 'State-owned primary exchange']\n",
      "['Qatar Executive', 'Consumer services', 'Airlines', 'Doha', '2009', 'Charter jet subsidiary of Qatar Airways']\n",
      "['Qatar Insurance', 'Financials', 'Full line insurance', 'Doha', '1964', 'State-owned insurance company']\n",
      "['QNB Group', 'Financials', 'Banks', 'Doha', '1964', 'Commercial bank']\n",
      "['Qatar National Cement Company', 'Industrials', 'Building materials & fixtures', 'Umm Bab', '1965', 'Cement manufacturing company']\n",
      "['Qatar National Company for Medical Projects', 'Health care', 'Health care providers', 'Doha', '2005', 'Healthcare company']\n",
      "['QatarEnergy', 'Oil & gas', 'Exploration & production', 'Doha', '1974', 'State-owned petroleum company']\n",
      "['Qatar Steel', 'Basic materials', 'Iron & steel', 'Mesaieed', '1974', 'State-owned steel company']\n",
      "['QatarEnergy LNG', 'Oil & gas', 'Exploration & production', 'Doha', '1984', 'State-owned natural gas company']\n",
      "['RasGas', 'Oil & gas', 'Exploration & production', 'Doha', '2001', 'Natural gas company']\n",
      "['Salam International Investment Limited', 'Conglomerates', '-', 'Doha', '1952', 'Multidisciplinary company']\n",
      "['Seashore Group', 'Conglomerates', '-', 'Al Khor', '1989', 'Multidisciplinary company']\n"
     ]
    }
   ],
   "source": [
    "import requests\n",
    "import csv\n",
    "from bs4 import BeautifulSoup\n",
    "\n",
    "url = \"https://en.m.wikipedia.org/wiki/List_of_companies_of_Qatar\"\n",
    "response = requests.get(url)\n",
    "\n",
    "soup = BeautifulSoup(response.text, 'html.parser')\n",
    "table = soup.find('table', class_='wikitable')\n",
    "\n",
    "data=[]\n",
    "for row in table.find_all('tr'):\n",
    "    cols = row.find_all(['th','td'])\n",
    "    cols = [col.text.strip() for col in cols]\n",
    "    data.append(cols)\n",
    "    \n",
    "for row in data:\n",
    "    print(row)\n"
   ]
  },
  {
   "cell_type": "code",
   "execution_count": 4,
   "id": "7b0281df",
   "metadata": {},
   "outputs": [
    {
     "name": "stdout",
     "output_type": "stream",
     "text": [
      "CSV file 'qatar_companies.csv' has been created successfully.\n"
     ]
    }
   ],
   "source": [
    "with open('qatar_companies.csv','w', newline='', encoding='utf-8') as csvfile:\n",
    "    writer = csv.writer(csvfile)\n",
    "    writer.writerows(data)\n",
    "    \n",
    "print(\"CSV file 'qatar_companies.csv' has been created successfully.\")"
   ]
  },
  {
   "cell_type": "code",
   "execution_count": null,
   "id": "b2501ecb-030d-448d-8bfd-8a4c6b64aa04",
   "metadata": {},
   "outputs": [],
   "source": []
  }
 ],
 "metadata": {
  "kernelspec": {
   "display_name": "Python 3 (ipykernel)",
   "language": "python",
   "name": "python3"
  },
  "language_info": {
   "codemirror_mode": {
    "name": "ipython",
    "version": 3
   },
   "file_extension": ".py",
   "mimetype": "text/x-python",
   "name": "python",
   "nbconvert_exporter": "python",
   "pygments_lexer": "ipython3",
   "version": "3.12.2"
  }
 },
 "nbformat": 4,
 "nbformat_minor": 5
}
